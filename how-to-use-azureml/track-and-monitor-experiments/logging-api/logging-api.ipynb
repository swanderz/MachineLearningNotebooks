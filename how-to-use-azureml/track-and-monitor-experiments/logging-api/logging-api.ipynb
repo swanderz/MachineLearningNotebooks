{
 "cells": [
  {
   "cell_type": "markdown",
   "metadata": {},
   "source": [
    "![Impressions](https://PixelServer20190423114238.azurewebsites.net/api/impressions/MachineLearningNotebooks/how-to-use-azureml/track-and-monitor-experiments/logging-api/logging-api.png)"
   ]
  },
  {
   "cell_type": "markdown",
   "metadata": {},
   "source": [
    "### Validate Azure ML SDK installation and get version number for debugging purposes"
   ]
  },
  {
   "cell_type": "code",
   "execution_count": 1,
   "metadata": {
    "tags": [
     "install"
    ]
   },
   "outputs": [
    {
     "name": "stdout",
     "output_type": "stream",
     "text": [
      "This notebook was created using SDK version 1.29.0, you are currently running version 1.29.0\n"
     ]
    }
   ],
   "source": [
    "from azureml.core import Experiment, Workspace, Run\n",
    "from azureml.core.authentication import InteractiveLoginAuthentication\n",
    "import azureml.core\n",
    "import numpy as np\n",
    "from tqdm import tqdm\n",
    "import os\n",
    "\n",
    "# Check core SDK version number\n",
    "\n",
    "print(\"This notebook was created using SDK version 1.29.0, you are currently running version\", azureml.core.VERSION)"
   ]
  },
  {
   "cell_type": "markdown",
   "metadata": {},
   "source": [
    "### Initialize workspace\n",
    "\n",
    "Initialize a workspace object from persisted configuration."
   ]
  },
  {
   "cell_type": "code",
   "execution_count": 20,
   "metadata": {},
   "outputs": [],
   "source": [
    "interactive_auth = InteractiveLoginAuthentication(\n",
    "    tenant_id='cf36141c-ddd7-45a7-b073-111f66d0b30c')"
   ]
  },
  {
   "cell_type": "code",
   "execution_count": 21,
   "metadata": {
    "tags": [
     "create workspace"
    ]
   },
   "outputs": [
    {
     "name": "stdout",
     "output_type": "stream",
     "text": [
      "Workspace name: avadevitsmlsvc\n",
      "Azure region: westus2\n",
      "Subscription id: ff2e23ae-7d7c-4cbd-99b8-116bb94dca6e\n",
      "Resource group: RG-ITSMLTeam-Dev\n"
     ]
    }
   ],
   "source": [
    "ws = Workspace.from_config(path='/Users/anders.swanson/repos/MachineLearningNotebooks/config/config.json', auth=interactive_auth)\n",
    "print('Workspace name: ' + ws.name, \n",
    "      'Azure region: ' + ws.location, \n",
    "      'Subscription id: ' + ws.subscription_id, \n",
    "      'Resource group: ' + ws.resource_group, sep='\\n')"
   ]
  },
  {
   "cell_type": "markdown",
   "metadata": {},
   "source": [
    "### Set experiment\n",
    "Create a new experiment (or get the one with the specified name).  An *experiment* is a container for an arbitrary set of *runs*. "
   ]
  },
  {
   "cell_type": "code",
   "execution_count": 4,
   "metadata": {},
   "outputs": [
    {
     "data": {
      "text/html": [
       "<table style=\"width:100%\"><tr><th>Name</th><th>Workspace</th><th>Report Page</th><th>Docs Page</th></tr><tr><td>logging-api-test</td><td>avadevitsmlsvc</td><td><a href=\"https://ml.azure.com/experiments/id/6e4fca15-d425-4c14-9ca3-d9168db99e93?wsid=/subscriptions/ff2e23ae-7d7c-4cbd-99b8-116bb94dca6e/resourcegroups/RG-ITSMLTeam-Dev/workspaces/avadevitsmlsvc&amp;tid=cf36141c-ddd7-45a7-b073-111f66d0b30c\" target=\"_blank\" rel=\"noopener\">Link to Azure Machine Learning studio</a></td><td><a href=\"https://docs.microsoft.com/en-us/python/api/azureml-core/azureml.core.experiment.Experiment?view=azure-ml-py\" target=\"_blank\" rel=\"noopener\">Link to Documentation</a></td></tr></table>"
      ],
      "text/plain": [
       "Experiment(Name: logging-api-test,\n",
       "Workspace: avadevitsmlsvc)"
      ]
     },
     "execution_count": 4,
     "metadata": {},
     "output_type": "execute_result"
    }
   ],
   "source": [
    "experiment = Experiment(workspace=ws, name='logging-api-test')\n",
    "experiment"
   ]
  },
  {
   "cell_type": "markdown",
   "metadata": {},
   "source": [
    "## Trial 1: this works\n",
    "\n",
    "no issues if there are no arguments provided to `run.start_logging()`."
   ]
  },
  {
   "cell_type": "code",
   "execution_count": 5,
   "metadata": {},
   "outputs": [],
   "source": [
    "directory = 'logging-api'\n",
    "\n",
    "if not os.path.exists(directory):\n",
    "    os.mkdir(directory)\n",
    "\n",
    "file_name = os.path.join(directory, \"myfile.txt\")"
   ]
  },
  {
   "cell_type": "code",
   "execution_count": 6,
   "metadata": {},
   "outputs": [
    {
     "data": {
      "text/html": [
       "<table style=\"width:100%\"><tr><th>Experiment</th><th>Id</th><th>Type</th><th>Status</th><th>Details Page</th><th>Docs Page</th></tr><tr><td>logging-api-test</td><td>e5d60ffe-de52-4495-b4c7-581633dbae40</td><td></td><td>Running</td><td><a href=\"https://ml.azure.com/runs/e5d60ffe-de52-4495-b4c7-581633dbae40?wsid=/subscriptions/ff2e23ae-7d7c-4cbd-99b8-116bb94dca6e/resourcegroups/RG-ITSMLTeam-Dev/workspaces/avadevitsmlsvc&amp;tid=cf36141c-ddd7-45a7-b073-111f66d0b30c\" target=\"_blank\" rel=\"noopener\">Link to Azure Machine Learning studio</a></td><td><a href=\"https://docs.microsoft.com/en-us/python/api/azureml-core/azureml.core.run.Run?view=azure-ml-py\" target=\"_blank\" rel=\"noopener\">Link to Documentation</a></td></tr></table>"
      ],
      "text/plain": [
       "Run(Experiment: logging-api-test,\n",
       "Id: e5d60ffe-de52-4495-b4c7-581633dbae40,\n",
       "Type: None,\n",
       "Status: Running)"
      ]
     },
     "execution_count": 6,
     "metadata": {},
     "output_type": "execute_result"
    }
   ],
   "source": [
    "run = experiment.start_logging() \n",
    "run"
   ]
  },
  {
   "cell_type": "code",
   "execution_count": 7,
   "metadata": {},
   "outputs": [],
   "source": [
    "# log a string metric\n",
    "run.log(name='Category', value='Red')\n",
    "# log numerical values\n",
    "scale_factor = 2\n",
    "run.log(name=\"scale factor\", value = scale_factor)\n",
    "run.log(name='Magic Number', value=42 * scale_factor)"
   ]
  },
  {
   "cell_type": "code",
   "execution_count": 8,
   "metadata": {},
   "outputs": [],
   "source": [
    "with open(file_name, \"w\") as f:\n",
    "    f.write('This is an output file that will be uploaded.\\n')"
   ]
  },
  {
   "cell_type": "code",
   "execution_count": 9,
   "metadata": {},
   "outputs": [],
   "source": [
    "run.complete()"
   ]
  },
  {
   "cell_type": "markdown",
   "metadata": {},
   "source": [
    "# Trial 2: doesn't work\n",
    "\n",
    "no issues if there are no arguments provided to `run.start_logging()`."
   ]
  },
  {
   "cell_type": "code",
   "execution_count": 10,
   "metadata": {},
   "outputs": [],
   "source": [
    "directory2 = 'logging-api_2'\n",
    "\n",
    "if not os.path.exists(directory2):\n",
    "    os.mkdir(directory2)\n",
    "\n",
    "file_name2 = os.path.join(directory2, \"myfile.txt\")"
   ]
  },
  {
   "cell_type": "code",
   "execution_count": 15,
   "metadata": {},
   "outputs": [
    {
     "data": {
      "text/html": [
       "<table style=\"width:100%\"><tr><th>Experiment</th><th>Id</th><th>Type</th><th>Status</th><th>Details Page</th><th>Docs Page</th></tr><tr><td>logging-api-test</td><td>fd499da1-4f2a-4195-99c8-06a63e1425e9</td><td></td><td>Running</td><td><a href=\"https://ml.azure.com/runs/fd499da1-4f2a-4195-99c8-06a63e1425e9?wsid=/subscriptions/ff2e23ae-7d7c-4cbd-99b8-116bb94dca6e/resourcegroups/RG-ITSMLTeam-Dev/workspaces/avadevitsmlsvc&amp;tid=cf36141c-ddd7-45a7-b073-111f66d0b30c\" target=\"_blank\" rel=\"noopener\">Link to Azure Machine Learning studio</a></td><td><a href=\"https://docs.microsoft.com/en-us/python/api/azureml-core/azureml.core.run.Run?view=azure-ml-py\" target=\"_blank\" rel=\"noopener\">Link to Documentation</a></td></tr></table>"
      ],
      "text/plain": [
       "Run(Experiment: logging-api-test,\n",
       "Id: fd499da1-4f2a-4195-99c8-06a63e1425e9,\n",
       "Type: None,\n",
       "Status: Running)"
      ]
     },
     "execution_count": 15,
     "metadata": {},
     "output_type": "execute_result"
    }
   ],
   "source": [
    "run2 = experiment.start_logging(outputs=directory2, snapshot_directory='.')\n",
    "run2"
   ]
  },
  {
   "cell_type": "code",
   "execution_count": 16,
   "metadata": {},
   "outputs": [],
   "source": [
    "# log a string metric\n",
    "run2.log(name='Category', value='Red')\n",
    "# log numerical values\n",
    "scale_factor = 2\n",
    "run2.log(name=\"scale factor\", value = scale_factor)\n",
    "run2.log(name='Magic Number', value=42 * scale_factor)"
   ]
  },
  {
   "cell_type": "code",
   "execution_count": 17,
   "metadata": {},
   "outputs": [],
   "source": [
    "with open(file_name2, \"w\") as f:\n",
    "    f.write('This is ALSO an output file that will be uploaded.\\n')"
   ]
  },
  {
   "cell_type": "code",
   "execution_count": 18,
   "metadata": {},
   "outputs": [],
   "source": [
    "run2.complete()"
   ]
  },
  {
   "cell_type": "code",
   "execution_count": null,
   "metadata": {},
   "outputs": [],
   "source": []
  }
 ],
 "metadata": {
  "authors": [
   {
    "name": "roastala"
   }
  ],
  "category": "other",
  "compute": [
   "None"
  ],
  "datasets": [
   "None"
  ],
  "deployment": [
   "None"
  ],
  "exclude_from_index": false,
  "framework": [
   "None"
  ],
  "friendly_name": "Logging APIs",
  "kernelspec": {
   "display_name": "Python (rvo)",
   "language": "python",
   "name": "rvo"
  },
  "language_info": {
   "codemirror_mode": {
    "name": "ipython",
    "version": 3
   },
   "file_extension": ".py",
   "mimetype": "text/x-python",
   "name": "python",
   "nbconvert_exporter": "python",
   "pygments_lexer": "ipython3",
   "version": "3.8.8"
  },
  "order_index": 1,
  "star_tag": [],
  "tags": [
   "None"
  ],
  "task": "Logging APIs and analyzing results"
 },
 "nbformat": 4,
 "nbformat_minor": 4
}
